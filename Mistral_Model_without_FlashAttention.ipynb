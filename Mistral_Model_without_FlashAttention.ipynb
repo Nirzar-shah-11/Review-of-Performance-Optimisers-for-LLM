{
  "nbformat": 4,
  "nbformat_minor": 0,
  "metadata": {
    "colab": {
      "provenance": [],
      "gpuType": "T4"
    },
    "kernelspec": {
      "name": "python3",
      "display_name": "Python 3"
    },
    "language_info": {
      "name": "python"
    },
    "accelerator": "GPU"
  },
  "cells": [
    {
      "cell_type": "code",
      "execution_count": null,
      "metadata": {
        "id": "Rx5TtSImxSLr",
        "collapsed": true
      },
      "outputs": [],
      "source": [
        "# Install the required libraries\n",
        "!pip install -U transformers datasets trl peft accelerate bitsandbytes"
      ]
    },
    {
      "cell_type": "code",
      "source": [
        "# Important imports for model training and data handling\n",
        "import torch\n",
        "from datasets import load_dataset\n",
        "from transformers import (\n",
        "    AutoModelForCausalLM,\n",
        "    AutoTokenizer,\n",
        "    BitsAndBytesConfig,\n",
        "    TrainingArguments,\n",
        "    pipeline,\n",
        ")\n",
        "from peft import LoraConfig, PeftModel, prepare_model_for_kbit_training\n",
        "from trl import SFTTrainer\n",
        "import warnings\n",
        "import datasets\n",
        "import pandas as pd\n",
        "import numpy as np"
      ],
      "metadata": {
        "id": "T15f0AodxWm5"
      },
      "execution_count": null,
      "outputs": []
    },
    {
      "cell_type": "code",
      "source": [
        "# Upload the dataset from the local machine\n",
        "from google.colab import files\n",
        "uploaded = files.upload()"
      ],
      "metadata": {
        "id": "nowPC4igxYoW"
      },
      "execution_count": null,
      "outputs": []
    },
    {
      "cell_type": "code",
      "source": [
        "# Load the dataset into a pandas DataFrame and display the first few rows\n",
        "df = pd.read_csv(\"Barbie_ChatGPT_genAI.csv\")\n",
        "df.head()"
      ],
      "metadata": {
        "id": "aj3cIaNuyEDh"
      },
      "execution_count": null,
      "outputs": []
    },
    {
      "cell_type": "code",
      "source": [
        "# Format the dataset by creating a new column for training with specific instruction-response format\n",
        "df[\"formatted_instruction\"] = df.apply(lambda x: f\"### Instruction:\\n{x['text']}\\n\\n### Response:\\n{x['labels']}\", axis=1)"
      ],
      "metadata": {
        "id": "Tr1AG2sUyD_2"
      },
      "execution_count": null,
      "outputs": []
    },
    {
      "cell_type": "code",
      "source": [
        "# Display the first few rows of the DataFrame with the formatted instructions\n",
        "df.head()"
      ],
      "metadata": {
        "id": "SHvg2TQmyD81"
      },
      "execution_count": null,
      "outputs": []
    },
    {
      "cell_type": "code",
      "source": [
        "# Login to Hugging Face Hub (requires user token)\n",
        "from huggingface_hub import login\n",
        "login(token=\"\")"
      ],
      "metadata": {
        "id": "fWcbQKJOyD5j"
      },
      "execution_count": null,
      "outputs": []
    },
    {
      "cell_type": "code",
      "source": [
        "# Display the GPU information if available\n",
        "!nvidia-smi"
      ],
      "metadata": {
        "id": "HIbnS6_5yDxK"
      },
      "execution_count": null,
      "outputs": []
    },
    {
      "cell_type": "code",
      "source": [
        "# Initialize the base model and tokenizer\n",
        "base_model = \"mistralai/Mistral-7B-v0.1\"\n",
        "tokenizer = AutoTokenizer.from_pretrained(base_model, use_fast=True)"
      ],
      "metadata": {
        "id": "MdLLW7IxysEN"
      },
      "execution_count": null,
      "outputs": []
    },
    {
      "cell_type": "code",
      "source": [
        "# Calculate token lengths for formatted instructions and add to DataFrame\n",
        "df[\"formatted_instruction_tok_len\"] = df[\"formatted_instruction\"].apply(lambda x:len(tokenizer.encode(x)))\n"
      ],
      "metadata": {
        "id": "BcRcKBPDysHJ"
      },
      "execution_count": null,
      "outputs": []
    },
    {
      "cell_type": "code",
      "source": [
        "# Plot the distribution of token lengths to visualize\n",
        "import seaborn as sns\n",
        "import matplotlib.pyplot as plt\n",
        "\n",
        "sns.boxplot(x=df[\"formatted_instruction_tok_len\"])\n",
        "\n",
        "plt.xlabel(\"formatted_instruction_tok_len\")\n",
        "plt.title(\"token length\")\n",
        "plt.show()"
      ],
      "metadata": {
        "id": "G64-M6xLysKH"
      },
      "execution_count": null,
      "outputs": []
    },
    {
      "cell_type": "code",
      "source": [
        "# Filter dataset to keep instructions with token lengths less than or equal to 128\n",
        "df = df[df[\"formatted_instruction_tok_len\"]<=128]\n",
        "df.shape"
      ],
      "metadata": {
        "id": "1Hi_nAyHysNO"
      },
      "execution_count": null,
      "outputs": []
    },
    {
      "cell_type": "code",
      "source": [
        "# Convert the filtered DataFrame to a Hugging Face Dataset\n",
        "dataset = datasets.Dataset.from_pandas(df)"
      ],
      "metadata": {
        "id": "Mrv_R928ysP1"
      },
      "execution_count": null,
      "outputs": []
    },
    {
      "cell_type": "code",
      "source": [
        "# Define configuration for model quantization to reduce memory usage\n",
        "compute_dtype = getattr(torch, \"float16\")\n",
        "quant_config = BitsAndBytesConfig(\n",
        "    load_in_4bit=True,\n",
        "    bnb_4bit_quant_type=\"nf4\",\n",
        "    bnb_4bit_compute_dtype=compute_dtype,\n",
        "    bnb_4bit_use_double_quant=False,\n",
        ")\n"
      ],
      "metadata": {
        "id": "wUXPwe3uysSr"
      },
      "execution_count": null,
      "outputs": []
    },
    {
      "cell_type": "code",
      "source": [
        "import time"
      ],
      "metadata": {
        "id": "heWXQo6CysVS"
      },
      "execution_count": null,
      "outputs": []
    },
    {
      "cell_type": "code",
      "source": [
        "# Load the model with 4-bit quantization configuration\n",
        "start = time.time()\n",
        "model = AutoModelForCausalLM.from_pretrained(\n",
        "    base_model,\n",
        "    quantization_config=quant_config,\n",
        "    device_map={\"\": 0}\n",
        ")\n",
        "model.config.use_cache = False\n",
        "model.config.pretraining_tp = 1\n",
        "print(\"time for model load: {} seconds\".format(time.time()-start))"
      ],
      "metadata": {
        "id": "1Fvk0XnvysYC"
      },
      "execution_count": null,
      "outputs": []
    },
    {
      "cell_type": "code",
      "source": [
        "# Setup the text-generation pipeline with the loaded model and tokenizer\n",
        "pipe = pipeline(task=\"text-generation\", model=model, tokenizer=tokenizer, max_length=500)\n",
        "prompt = \"###Instruction:\\nPlease tell me in brief about the cast of the movie called \\\"Barbie\\\"\\n\\n###Response\\n:\"\n",
        "gen_text = pipe(prompt)\n",
        "print(gen_text[0]['generated_text'][len(prompt):])"
      ],
      "metadata": {
        "id": "WjEYfG5OysbF"
      },
      "execution_count": null,
      "outputs": []
    },
    {
      "cell_type": "code",
      "source": [
        "# Configure tokenizer to pad tokens and set padding side\n",
        "tokenizer.pad_token = tokenizer.eos_token\n",
        "tokenizer.padding_side = \"right\""
      ],
      "metadata": {
        "id": "a9sSeUIlyseg"
      },
      "execution_count": null,
      "outputs": []
    },
    {
      "cell_type": "code",
      "source": [
        "# Define parameters for Parameter Efficient Fine-Tuning (PEFT)\n",
        "peft_params = LoraConfig(\n",
        "    lora_alpha=16,\n",
        "    lora_dropout=0.1,\n",
        "    r=64,\n",
        "    bias=\"none\",\n",
        "    task_type=\"CAUSAL_LM\",\n",
        ")"
      ],
      "metadata": {
        "id": "3FQ5yVk_zOQR"
      },
      "execution_count": null,
      "outputs": []
    },
    {
      "cell_type": "code",
      "source": [
        "# Define training arguments for model fine-tuning\n",
        "training_params = TrainingArguments(\n",
        "    output_dir=\"./\",\n",
        "    num_train_epochs=1,\n",
        "    per_device_train_batch_size=2,\n",
        "    gradient_accumulation_steps=1,\n",
        "    optim=\"paged_adamw_32bit\",\n",
        "    save_steps=50,\n",
        "    logging_steps=25,\n",
        "    learning_rate=2e-4,\n",
        "    weight_decay=0.001,\n",
        "    fp16=False,\n",
        "    bf16=False,\n",
        "    max_grad_norm=0.3,\n",
        "    max_steps=-1,\n",
        "    warmup_ratio=0.03,\n",
        "    group_by_length=True,\n",
        "    lr_scheduler_type=\"constant\",\n",
        "    report_to=\"tensorboard\"\n",
        ")"
      ],
      "metadata": {
        "id": "jQmLiDfkzOU7"
      },
      "execution_count": null,
      "outputs": []
    },
    {
      "cell_type": "code",
      "source": [
        "# Initialize the trainer for fine-tuning the model\n",
        "trainer = SFTTrainer(\n",
        "    model=model,\n",
        "    train_dataset=dataset,\n",
        "    peft_config=peft_params,\n",
        "    dataset_text_field=\"formatted_instruction\",\n",
        "    max_seq_length=128,\n",
        "    tokenizer=tokenizer,\n",
        "    args=training_params,\n",
        "    packing=False,\n",
        ")"
      ],
      "metadata": {
        "id": "ci15QHxdzOY1"
      },
      "execution_count": null,
      "outputs": []
    },
    {
      "cell_type": "code",
      "source": [
        "# Start model training and measure the time taken\n",
        "start = time.time()\n",
        "output = trainer.train()\n",
        "print(\"Time taken: \", time.time()-start)"
      ],
      "metadata": {
        "id": "B6z6vM36zOcI"
      },
      "execution_count": null,
      "outputs": []
    },
    {
      "cell_type": "code",
      "source": [
        "# Generate text using the fine-tuned model to evaluate performance\n",
        "pipe = pipeline(task=\"text-generation\", model=model, tokenizer=tokenizer, max_length=100)\n",
        "prompt = \"###Instruction:\\nPlease tell me in brief about the movie called \\\"Barbie\\\"\\n\\n###Response\\n:\"\n",
        "start = time.time()\n",
        "gen_text = pipe(prompt)\n",
        "print(gen_text[0]['generated_text'][len(prompt):])\n",
        "print(\"Time taken: \", time.time()-start)"
      ],
      "metadata": {
        "id": "_MOC0ElOJAdf"
      },
      "execution_count": null,
      "outputs": []
    },
    {
      "cell_type": "code",
      "source": [
        "tokens = tokenizer.tokenize(text)\n",
        "token_ids = tokenizer.convert_tokens_to_ids(tokens)\n",
        "\n",
        "# Calculate the number of words and tokens\n",
        "num_words = len(text.split())\n",
        "num_tokens = len(tokens)\n",
        "\n",
        "# Calculate the ratio\n",
        "words_per_token = num_words / num_tokens\n",
        "tokens_per_word = num_tokens / num_words"
      ],
      "metadata": {
        "id": "hJGdC0k8drnA"
      },
      "execution_count": null,
      "outputs": []
    }
  ]
}